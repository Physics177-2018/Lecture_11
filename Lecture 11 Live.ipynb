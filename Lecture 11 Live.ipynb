{
 "cells": [
  {
   "cell_type": "code",
   "execution_count": 1,
   "metadata": {},
   "outputs": [],
   "source": [
    "import random\n",
    "from math import pi"
   ]
  },
  {
   "cell_type": "code",
   "execution_count": 3,
   "metadata": {},
   "outputs": [
    {
     "name": "stdout",
     "output_type": "stream",
     "text": [
      "0.102152\n"
     ]
    }
   ],
   "source": [
    "# Wrong Way\n",
    "N = 500000\n",
    "side = 100\n",
    "rad2 = (side/2)**2  # radius of circle^2\n",
    "Nhit = 0\n",
    "\n",
    "x=0\n",
    "y=0\n",
    "\n",
    "for i in range(N):\n",
    "    dx = random.uniform(-1,1)\n",
    "    dy = random.uniform(-1,1)\n",
    "    while abs(x+dx) > side/2 and abs(y+dy) > side/2:\n",
    "        dx = random.uniform(-1,1)\n",
    "        dy = random.uniform(-1,1)\n",
    "    x += dx\n",
    "    y += dy\n",
    "    if x**2 + y**2 < rad2:\n",
    "        Nhit += 1\n",
    "        \n",
    "print(Nhit/N)"
   ]
  },
  {
   "cell_type": "code",
   "execution_count": 4,
   "metadata": {},
   "outputs": [
    {
     "name": "stdout",
     "output_type": "stream",
     "text": [
      "0.7853981633974483\n"
     ]
    }
   ],
   "source": [
    "print(pi/4)"
   ]
  },
  {
   "cell_type": "code",
   "execution_count": 5,
   "metadata": {},
   "outputs": [
    {
     "name": "stdout",
     "output_type": "stream",
     "text": [
      "0.781522\n"
     ]
    }
   ],
   "source": [
    "# Right way\n",
    "\n",
    "N = 500000\n",
    "side = 100\n",
    "rad2 = (side/2)**2  # radius of circle^2\n",
    "Nhit = 0\n",
    "\n",
    "x=0\n",
    "y=0\n",
    "\n",
    "for i in range(N):\n",
    "    dx = random.uniform(-1,1)\n",
    "    dy = random.uniform(-1,1)\n",
    "    if abs(x+dx) < side/2 and abs(y+dy) < side/2:\n",
    "        x += dx\n",
    "        y += dy\n",
    "    if x**2 + y**2 < rad2:\n",
    "        Nhit += 1\n",
    "\n",
    "print(Nhit/N)"
   ]
  },
  {
   "cell_type": "code",
   "execution_count": null,
   "metadata": {},
   "outputs": [],
   "source": []
  }
 ],
 "metadata": {
  "kernelspec": {
   "display_name": "Python 3",
   "language": "python",
   "name": "python3"
  },
  "language_info": {
   "codemirror_mode": {
    "name": "ipython",
    "version": 3
   },
   "file_extension": ".py",
   "mimetype": "text/x-python",
   "name": "python",
   "nbconvert_exporter": "python",
   "pygments_lexer": "ipython3",
   "version": "3.6.3"
  }
 },
 "nbformat": 4,
 "nbformat_minor": 2
}
